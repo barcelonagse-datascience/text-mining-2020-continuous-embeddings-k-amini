{
 "cells": [
  {
   "cell_type": "markdown",
   "metadata": {},
   "source": [
    "# Assignment 3: Word2Vec\n",
    "\n",
    "In this assignment, we will see how we can use Word2Vec (or any similar word embedding) to use information from unlabelled data to help us classify better!\n",
    "\n",
    "You will be using the sentiment data from last week, either the yelps or movies, whichever you wish. \n",
    "\n",
    "Your goal will be to simulate the following situation: you have a **small** set of labelled data and a large set of unlabelled data. Show how the two follow 2 techniques compare as the amount of labelled data increases. You should train them on the small labelled subset and test their performance on the rest of the data. \n",
    "\n",
    "In other words, train on 1k, test on 99k. Then train on 2k, test on 98k. Then train on 4k, test on 96k. Etc.\n",
    "\n",
    "1. Logistic regression trained on labelled data, documents represented as term-frequency matrix of your choice. You can learn the vocabulary from the entire dataset or only the labelled data.\n",
    "\n",
    "2. Logistic regression trained on the labelled data, documents represented as word2vec vectors where you train word2vec using the entire dataset. Play around with different settings of word2vec (training window size, K-negative, skip-gram vs BOW, training windows, etc.). Note: we didn't go over the options in detail in class, so you will need to read about them a bit!\n",
    "\n",
    "You can read about the gensime word2vec implementation [here](https://radimrehurek.com/gensim/models/word2vec.html)."
   ]
  },
  {
   "cell_type": "markdown",
   "metadata": {},
   "source": [
    "# Results are at the end of the notebook"
   ]
  },
  {
   "cell_type": "markdown",
   "metadata": {},
   "source": [
    "**I could have wrapped the functions in order to make the code prettier. However, given the computions were quite costly and I wanted to observe results in between I decided to leave them seperately. Each variation of the model took a few hours to run!**"
   ]
  },
  {
   "cell_type": "code",
   "execution_count": 1,
   "metadata": {},
   "outputs": [],
   "source": [
    "import re\n",
    "import spacy\n",
    "import pandas as pd\n",
    "import numpy as np\n",
    "from numpy import mean\n",
    "import matplotlib.pyplot as plt"
   ]
  },
  {
   "cell_type": "code",
   "execution_count": 2,
   "metadata": {},
   "outputs": [],
   "source": [
    "yelps = pd.read_csv('../data/sentiment/yelps.csv')"
   ]
  },
  {
   "cell_type": "code",
   "execution_count": 3,
   "metadata": {},
   "outputs": [],
   "source": [
    "from nltk.stem.snowball import SnowballStemmer\n",
    "from sklearn.feature_extraction.text import TfidfVectorizer\n",
    "from sklearn.decomposition import TruncatedSVD\n",
    "\n",
    "stemmer = SnowballStemmer(\"english\")\n",
    "not_alphanumeric_or_space = re.compile(r'[^(\\w|\\s|\\d)]')\n",
    "nlp = spacy.load('en_core_web_sm')\n",
    "\n",
    "def preprocess(doc):\n",
    "    doc = re.sub(not_alphanumeric_or_space, '', doc)\n",
    "    words = [t.lemma_ for t in nlp(doc) if t.lemma_ != '-PRON-']\n",
    "    return ' '.join(words).lower()\n",
    "\n",
    "vectorizer = TfidfVectorizer(min_df=2,\n",
    "                             max_df=.8,\n",
    "                             preprocessor=preprocess,\n",
    "                             stop_words='english',\n",
    "                             use_idf=False,\n",
    "                             norm=False)\n",
    "\n",
    "\n",
    "#take samples of data\n",
    "yelps = yelps.sample(frac=1.0)"
   ]
  },
  {
   "cell_type": "code",
   "execution_count": 4,
   "metadata": {},
   "outputs": [],
   "source": [
    "from sklearn.linear_model import LogisticRegression\n",
    "from sklearn.model_selection import cross_val_score\n",
    "from sklearn.metrics import accuracy_score\n"
   ]
  },
  {
   "cell_type": "code",
   "execution_count": 5,
   "metadata": {},
   "outputs": [],
   "source": [
    "#from sklearn.model_selection import train_test_split\n",
    "#X_train, X_test, y_train, y_test= train_test_split(yelps.text,yelps.positive)"
   ]
  },
  {
   "cell_type": "code",
   "execution_count": 6,
   "metadata": {},
   "outputs": [],
   "source": [
    "# Fit\n",
    "#v = vectorizer.fit_transform(X_train)\n",
    "#v = np.asarray(v.todense())\n",
    "#y = y_train\n",
    "\n",
    "#labels, _ = zip(*sorted(vectorizer.vocabulary_.items(), key=lambda x: x[1]))\n"
   ]
  },
  {
   "cell_type": "code",
   "execution_count": 11,
   "metadata": {},
   "outputs": [],
   "source": [
    "def pre_sample(data,n_samples):\n",
    "    yelps = data.sample(n=n_samples)\n",
    "    X=yelps.text\n",
    "    y=yelps.positive\n",
    "    return X,y"
   ]
  },
  {
   "cell_type": "code",
   "execution_count": 12,
   "metadata": {},
   "outputs": [],
   "source": [
    "X,y=pre_sample(yelps,len(yelps))"
   ]
  },
  {
   "cell_type": "code",
   "execution_count": 13,
   "metadata": {},
   "outputs": [],
   "source": [
    "# create train and test datasets\n",
    "def create_dataset(n_train, n_test=94000):\n",
    "    # generate samples\n",
    "    n_samples = n_train + n_test\n",
    "    X, y = pre_sample(yelps,n_samples=n_samples)\n",
    "    #print(X)\n",
    "    # split into train and test, first n for test\n",
    "    trainX, testX = X[n_test:], X[:n_test]\n",
    "    trainy, testy = y[n_test:], y[:n_test]\n",
    "    \n",
    "    #    trainX, testX = np.array(X).reshape(-1,1)[n_test:, :], np.array(X).reshape(-1,1)[:n_test, :]\n",
    "    #trainy, testy = np.array(y).reshape(-1,1)[n_test:], np.array(y).reshape(-1,1)[:n_test]\n",
    "    \n",
    "    # return samples\n",
    "    return trainX, trainy, testX, testy"
   ]
  },
  {
   "cell_type": "code",
   "execution_count": 14,
   "metadata": {},
   "outputs": [],
   "source": [
    "# evaluate LR model\n",
    "def evaluate_model(trainX, trainy, testX, testy):\n",
    "    # define model\n",
    "    model = LogisticRegression()\n",
    "    \n",
    "    #fit vectorizer\n",
    "    v = vectorizer.fit_transform(trainX)\n",
    "    v = np.asarray(v.todense())\n",
    "    y = trainy\n",
    "    \n",
    "    # Transform Test Data\n",
    "    x_test = vectorizer.transform(testX)\n",
    "    \n",
    "    # fit model\n",
    "    model.fit(v, y)\n",
    "    # evaluate the model\n",
    "    predy = model.predict(x_test)\n",
    "    score = accuracy_score(testy, predy)\n",
    "    return score"
   ]
  },
  {
   "cell_type": "code",
   "execution_count": 15,
   "metadata": {},
   "outputs": [],
   "source": [
    "trainX, trainy, testX, testy= create_dataset(1000)"
   ]
  },
  {
   "cell_type": "code",
   "execution_count": 16,
   "metadata": {},
   "outputs": [
    {
     "name": "stderr",
     "output_type": "stream",
     "text": [
      "/Users/keyvanamini/anaconda3/lib/python3.7/site-packages/sklearn/feature_extraction/text.py:300: UserWarning: Your stop_words may be inconsistent with your preprocessing. Tokenizing the stop words generated tokens ['make'] not in stop_words.\n",
      "  'stop_words.' % sorted(inconsistent))\n",
      "/Users/keyvanamini/anaconda3/lib/python3.7/site-packages/sklearn/linear_model/logistic.py:432: FutureWarning: Default solver will be changed to 'lbfgs' in 0.22. Specify a solver to silence this warning.\n",
      "  FutureWarning)\n"
     ]
    },
    {
     "data": {
      "text/plain": [
       "0.8947765957446808"
      ]
     },
     "execution_count": 16,
     "metadata": {},
     "output_type": "execute_result"
    }
   ],
   "source": [
    "evaluate_model(trainX, trainy, testX, testy)"
   ]
  },
  {
   "cell_type": "code",
   "execution_count": 17,
   "metadata": {},
   "outputs": [],
   "source": [
    "# repeated evaluation of lr model with dataset of a given size\n",
    "def evaluate_size(n_train, n_repeats=2):\n",
    "    # create dataset\n",
    "    trainX, trainy, testX, testy = create_dataset(n_train)\n",
    "    # repeat evaluation of model with dataset\n",
    "    scores = list()\n",
    "    for _ in range(n_repeats):\n",
    "        # evaluate model for size\n",
    "        score = evaluate_model(trainX, trainy, testX, testy)\n",
    "        scores.append(score)\n",
    "    return scores"
   ]
  },
  {
   "cell_type": "code",
   "execution_count": 19,
   "metadata": {},
   "outputs": [
    {
     "name": "stderr",
     "output_type": "stream",
     "text": [
      "/Users/keyvanamini/anaconda3/lib/python3.7/site-packages/sklearn/linear_model/logistic.py:432: FutureWarning: Default solver will be changed to 'lbfgs' in 0.22. Specify a solver to silence this warning.\n",
      "  FutureWarning)\n",
      "/Users/keyvanamini/anaconda3/lib/python3.7/site-packages/sklearn/linear_model/logistic.py:432: FutureWarning: Default solver will be changed to 'lbfgs' in 0.22. Specify a solver to silence this warning.\n",
      "  FutureWarning)\n"
     ]
    },
    {
     "name": "stdout",
     "output_type": "stream",
     "text": [
      "Train Size=1000, Test Accuracy 89.807\n"
     ]
    },
    {
     "name": "stderr",
     "output_type": "stream",
     "text": [
      "/Users/keyvanamini/anaconda3/lib/python3.7/site-packages/sklearn/linear_model/logistic.py:432: FutureWarning: Default solver will be changed to 'lbfgs' in 0.22. Specify a solver to silence this warning.\n",
      "  FutureWarning)\n",
      "/Users/keyvanamini/anaconda3/lib/python3.7/site-packages/sklearn/linear_model/logistic.py:432: FutureWarning: Default solver will be changed to 'lbfgs' in 0.22. Specify a solver to silence this warning.\n",
      "  FutureWarning)\n"
     ]
    },
    {
     "name": "stdout",
     "output_type": "stream",
     "text": [
      "Train Size=2000, Test Accuracy 91.513\n"
     ]
    },
    {
     "name": "stderr",
     "output_type": "stream",
     "text": [
      "/Users/keyvanamini/anaconda3/lib/python3.7/site-packages/sklearn/linear_model/logistic.py:432: FutureWarning: Default solver will be changed to 'lbfgs' in 0.22. Specify a solver to silence this warning.\n",
      "  FutureWarning)\n",
      "/Users/keyvanamini/anaconda3/lib/python3.7/site-packages/sklearn/linear_model/logistic.py:432: FutureWarning: Default solver will be changed to 'lbfgs' in 0.22. Specify a solver to silence this warning.\n",
      "  FutureWarning)\n"
     ]
    },
    {
     "name": "stdout",
     "output_type": "stream",
     "text": [
      "Train Size=4000, Test Accuracy 92.211\n"
     ]
    }
   ],
   "source": [
    "# define dataset sizes to evaluate\n",
    "sizes = [1000, 2000, 4000]\n",
    "score_sets1, means1 = list(), list()\n",
    "for n_train in sizes:\n",
    "    # repeated evaluate model with training set size\n",
    "    scores = evaluate_size(n_train)\n",
    "    score_sets1.append(scores)\n",
    "    # summarize score for size\n",
    "    mean_score1 = mean(scores)\n",
    "    means1.append(mean_score1)\n",
    "    print('Train Size=%d, Test Accuracy %.3f' % (n_train, mean_score1*100))\n"
   ]
  },
  {
   "cell_type": "code",
   "execution_count": 20,
   "metadata": {},
   "outputs": [
    {
     "data": {
      "image/png": "[encoded data removed]",
      "text/plain": [
       "<Figure size 432x288 with 1 Axes>"
      ]
     },
     "metadata": {
      "needs_background": "light"
     },
     "output_type": "display_data"
    }
   ],
   "source": [
    "# summarize relationship of train size to test accuracy\n",
    "plt.plot(sizes, means1, marker='o')\n",
    "plt.show()"
   ]
  },
  {
   "cell_type": "markdown",
   "metadata": {},
   "source": [
    "## Now doing the same but with the Word2Vec model"
   ]
  },
  {
   "cell_type": "code",
   "execution_count": 152,
   "metadata": {},
   "outputs": [],
   "source": [
    "#pip install \"gensim\""
   ]
  },
  {
   "cell_type": "code",
   "execution_count": 22,
   "metadata": {},
   "outputs": [],
   "source": [
    "#from nltk import sent_tokenize\n",
    "from nltk import word_tokenize\n",
    "from gensim.test.utils import common_texts, get_tmpfile\n",
    "from gensim.models import Word2Vec\n"
   ]
  },
  {
   "cell_type": "code",
   "execution_count": 23,
   "metadata": {},
   "outputs": [],
   "source": [
    "# evaluate LR model\n",
    "def evaluate_model2(X,trainX, trainy, testX, testy):\n",
    "    # define model\n",
    "    model = LogisticRegression()\n",
    "    \n",
    "    # pre-process data\n",
    "    trainX_mod = trainX.apply(lambda x: word_tokenize(x.lower()))\n",
    "    testX_mod = testX.apply(lambda x: word_tokenize(x.lower()))\n",
    "    docs=X.apply(lambda x: word_tokenize(x.lower()))\n",
    "    \n",
    "    #fit Word2Vec\n",
    "    model2 = Word2Vec(docs, min_count=1,size=50 ,workers=4) #trainX_mod size=50\n",
    "    model2.train(docs, total_examples=len(docs), epochs=2)\n",
    "    \n",
    "    # Train data: WordVec to DocVec\n",
    "    trainX2_temp=[]\n",
    "    for doc in trainX_mod:\n",
    "        doc_vec=np.zeros(shape=(50,)) # 50 because size=50 (per def. in Word2Vec)\n",
    "        for word in doc:\n",
    "            doc_vec+= model2.wv.__getitem__(word)\n",
    "        doc_vec=doc_vec/np.linalg.norm(doc_vec) # taking L2 norm\n",
    "        trainX2_temp+=[doc_vec.tolist()]\n",
    "    trainX2 = np.asarray(trainX2_temp)\n",
    "    \n",
    "    # Test data: WordVec to DocVec\n",
    "    testX2_temp=[]\n",
    "    for doc in testX_mod:\n",
    "        doc_vec=np.zeros(shape=(50,)) # 50 because size=50 (per def. in Word2Vec)\n",
    "        for word in doc:\n",
    "            doc_vec+= model2.wv.__getitem__(word)\n",
    "        doc_vec=doc_vec/np.linalg.norm(doc_vec) # taking L2 norm\n",
    "        testX2_temp+=[doc_vec.tolist()]\n",
    "    testX2 = np.asarray(testX2_temp)\n",
    "    \n",
    "    model.fit(trainX2, trainy)\n",
    "    # evaluate the model\n",
    "    predy = model.predict(testX2)\n",
    "    score = accuracy_score(testy, predy)\n",
    "    return score"
   ]
  },
  {
   "cell_type": "code",
   "execution_count": 24,
   "metadata": {},
   "outputs": [
    {
     "name": "stderr",
     "output_type": "stream",
     "text": [
      "/Users/keyvanamini/anaconda3/lib/python3.7/site-packages/sklearn/linear_model/logistic.py:432: FutureWarning: Default solver will be changed to 'lbfgs' in 0.22. Specify a solver to silence this warning.\n",
      "  FutureWarning)\n"
     ]
    },
    {
     "data": {
      "text/plain": [
       "0.8995319148936171"
      ]
     },
     "execution_count": 24,
     "metadata": {},
     "output_type": "execute_result"
    }
   ],
   "source": [
    "evaluate_model2(X,trainX, trainy, testX, testy)"
   ]
  },
  {
   "cell_type": "code",
   "execution_count": null,
   "metadata": {},
   "outputs": [],
   "source": []
  },
  {
   "cell_type": "code",
   "execution_count": 25,
   "metadata": {},
   "outputs": [],
   "source": [
    "# repeated evaluation of lr model with dataset of a given size\n",
    "def evaluate_size2(n_train, n_repeats=2):\n",
    "    # create dataset\n",
    "    trainX, trainy, testX, testy = create_dataset(n_train)\n",
    "    # repeat evaluation of model with dataset\n",
    "    scores = list()\n",
    "    for _ in range(n_repeats):\n",
    "        # evaluate model for size\n",
    "        score = evaluate_model2(X,trainX, trainy, testX, testy)\n",
    "        scores.append(score)\n",
    "    return scores"
   ]
  },
  {
   "cell_type": "code",
   "execution_count": 26,
   "metadata": {},
   "outputs": [
    {
     "name": "stderr",
     "output_type": "stream",
     "text": [
      "/Users/keyvanamini/anaconda3/lib/python3.7/site-packages/sklearn/linear_model/logistic.py:432: FutureWarning: Default solver will be changed to 'lbfgs' in 0.22. Specify a solver to silence this warning.\n",
      "  FutureWarning)\n",
      "/Users/keyvanamini/anaconda3/lib/python3.7/site-packages/sklearn/linear_model/logistic.py:432: FutureWarning: Default solver will be changed to 'lbfgs' in 0.22. Specify a solver to silence this warning.\n",
      "  FutureWarning)\n"
     ]
    },
    {
     "name": "stdout",
     "output_type": "stream",
     "text": [
      "Train Size=1000, Test Accuracy 89.937\n"
     ]
    },
    {
     "name": "stderr",
     "output_type": "stream",
     "text": [
      "/Users/keyvanamini/anaconda3/lib/python3.7/site-packages/sklearn/linear_model/logistic.py:432: FutureWarning: Default solver will be changed to 'lbfgs' in 0.22. Specify a solver to silence this warning.\n",
      "  FutureWarning)\n",
      "/Users/keyvanamini/anaconda3/lib/python3.7/site-packages/sklearn/linear_model/logistic.py:432: FutureWarning: Default solver will be changed to 'lbfgs' in 0.22. Specify a solver to silence this warning.\n",
      "  FutureWarning)\n"
     ]
    },
    {
     "name": "stdout",
     "output_type": "stream",
     "text": [
      "Train Size=2000, Test Accuracy 91.325\n"
     ]
    },
    {
     "name": "stderr",
     "output_type": "stream",
     "text": [
      "/Users/keyvanamini/anaconda3/lib/python3.7/site-packages/sklearn/linear_model/logistic.py:432: FutureWarning: Default solver will be changed to 'lbfgs' in 0.22. Specify a solver to silence this warning.\n",
      "  FutureWarning)\n",
      "/Users/keyvanamini/anaconda3/lib/python3.7/site-packages/sklearn/linear_model/logistic.py:432: FutureWarning: Default solver will be changed to 'lbfgs' in 0.22. Specify a solver to silence this warning.\n",
      "  FutureWarning)\n"
     ]
    },
    {
     "name": "stdout",
     "output_type": "stream",
     "text": [
      "Train Size=4000, Test Accuracy 91.781\n"
     ]
    }
   ],
   "source": [
    "# define dataset sizes to evaluate\n",
    "sizes = [1000, 2000, 4000]\n",
    "score_sets, means = list(), list()\n",
    "for n_train in sizes:\n",
    "    # repeated evaluate model with training set size\n",
    "    scores = evaluate_size2(n_train)\n",
    "    score_sets.append(scores)\n",
    "    # summarize score for size\n",
    "    mean_score = mean(scores)\n",
    "    means.append(mean_score)\n",
    "    print('Train Size=%d, Test Accuracy %.3f' % (n_train, mean_score*100))\n"
   ]
  },
  {
   "cell_type": "code",
   "execution_count": 27,
   "metadata": {},
   "outputs": [
    {
     "data": {
      "image/png": "[encoded data removed]",
      "text/plain": [
       "<Figure size 432x288 with 1 Axes>"
      ]
     },
     "metadata": {
      "needs_background": "light"
     },
     "output_type": "display_data"
    }
   ],
   "source": [
    "# summarize relationship of train size to test accuracy\n",
    "plt.plot(sizes, means, marker='o')\n",
    "plt.show()"
   ]
  },
  {
   "cell_type": "markdown",
   "metadata": {},
   "source": [
    "## Comparing the 2 models"
   ]
  },
  {
   "cell_type": "code",
   "execution_count": 28,
   "metadata": {},
   "outputs": [
    {
     "data": {
      "image/png": "[encoded data removed]",
      "text/plain": [
       "<Figure size 432x288 with 1 Axes>"
      ]
     },
     "metadata": {
      "needs_background": "light"
     },
     "output_type": "display_data"
    }
   ],
   "source": [
    "# summarize relationship of train size to test accuracy\n",
    "plt.plot(sizes, means1, marker='o',label='Word Frequency Matrix')\n",
    "plt.plot(sizes, means, marker='o',label=\"Word2Vec\")\n",
    "plt.legend()\n",
    "plt.show()"
   ]
  },
  {
   "cell_type": "markdown",
   "metadata": {},
   "source": [
    "## Reduced window size = 20"
   ]
  },
  {
   "cell_type": "code",
   "execution_count": 29,
   "metadata": {},
   "outputs": [],
   "source": [
    "#yelps = pd.read_csv('../data/sentiment/yelps.csv')"
   ]
  },
  {
   "cell_type": "code",
   "execution_count": 30,
   "metadata": {},
   "outputs": [],
   "source": [
    "#yelps2 = yelps.sample(frac=0.2)"
   ]
  },
  {
   "cell_type": "code",
   "execution_count": null,
   "metadata": {},
   "outputs": [],
   "source": [
    "#X,y=pre_sample(yelps,len(yelps2))"
   ]
  },
  {
   "cell_type": "code",
   "execution_count": null,
   "metadata": {},
   "outputs": [],
   "source": []
  },
  {
   "cell_type": "code",
   "execution_count": 13,
   "metadata": {},
   "outputs": [],
   "source": [
    "# create train and test datasets\n",
    "#def create_dataset(n_train, n_test=15000):\n",
    "    # generate samples\n",
    "#    n_samples = n_train + n_test\n",
    "#    X, y = pre_sample(yelps,n_samples=n_samples)\n",
    "    # split into train and test, first n for test\n",
    "#    trainX, testX = X[n_test:], X[:n_test]\n",
    "#    trainy, testy = y[n_test:], y[:n_test]\n",
    "    \n",
    "    #    trainX, testX = np.array(X).reshape(-1,1)[n_test:, :], np.array(X).reshape(-1,1)[:n_test, :]\n",
    "    #trainy, testy = np.array(y).reshape(-1,1)[n_test:], np.array(y).reshape(-1,1)[:n_test]\n",
    "    \n",
    "    # return samples\n",
    "#    return trainX, trainy, testX, testy"
   ]
  },
  {
   "cell_type": "code",
   "execution_count": 15,
   "metadata": {},
   "outputs": [],
   "source": [
    "#trainX, trainy, testX, testy= create_dataset(1000)"
   ]
  },
  {
   "cell_type": "code",
   "execution_count": 52,
   "metadata": {},
   "outputs": [],
   "source": [
    "# evaluate LR model\n",
    "def evaluate_model3(X,trainX, trainy, testX, testy):\n",
    "    # define model\n",
    "    model = LogisticRegression()\n",
    "    \n",
    "    # pre-process data\n",
    "    trainX_mod = trainX.apply(lambda x: word_tokenize(x.lower()))\n",
    "    testX_mod = testX.apply(lambda x: word_tokenize(x.lower()))\n",
    "    docs=X.apply(lambda x: word_tokenize(x.lower()))\n",
    "    \n",
    "    #fit Word2Vec\n",
    "    model2 = Word2Vec(docs, min_count=1,size=20 ,workers=4) #trainX_mod size=50\n",
    "    model2.train(docs, total_examples=len(docs), epochs=2)\n",
    "    \n",
    "    # Train data: WordVec to DocVec\n",
    "    trainX2_temp=[]\n",
    "    for doc in trainX_mod:\n",
    "        doc_vec=np.zeros(shape=(20,)) # 50 because size=50 (per def. in Word2Vec)\n",
    "        for word in doc:\n",
    "            doc_vec+= model2.wv.__getitem__(word)\n",
    "        doc_vec=doc_vec/np.linalg.norm(doc_vec) # taking L2 norm\n",
    "        trainX2_temp+=[doc_vec.tolist()]\n",
    "    trainX2 = np.asarray(trainX2_temp)\n",
    "    \n",
    "    # Test data: WordVec to DocVec\n",
    "    testX2_temp=[]\n",
    "    for doc in testX_mod:\n",
    "        doc_vec=np.zeros(shape=(20,)) # 50 because size=50 (per def. in Word2Vec)\n",
    "        for word in doc:\n",
    "            doc_vec+= model2.wv.__getitem__(word)\n",
    "        doc_vec=doc_vec/np.linalg.norm(doc_vec) # taking L2 norm\n",
    "        testX2_temp+=[doc_vec.tolist()]\n",
    "    testX2 = np.asarray(testX2_temp)\n",
    "    \n",
    "    model.fit(trainX2, trainy)\n",
    "    # evaluate the model\n",
    "    predy = model.predict(testX2)\n",
    "    score = accuracy_score(testy, predy)\n",
    "    return score"
   ]
  },
  {
   "cell_type": "code",
   "execution_count": 53,
   "metadata": {},
   "outputs": [],
   "source": [
    "# repeated evaluation of lr model with dataset of a given size\n",
    "def evaluate_size3(n_train, n_repeats=2):\n",
    "    # create dataset\n",
    "    trainX, trainy, testX, testy = create_dataset(n_train)\n",
    "    # repeat evaluation of model with dataset\n",
    "    scores = list()\n",
    "    for _ in range(n_repeats):\n",
    "        # evaluate model for size\n",
    "        score = evaluate_model3(X,trainX, trainy, testX, testy)\n",
    "        scores.append(score)\n",
    "    return scores"
   ]
  },
  {
   "cell_type": "code",
   "execution_count": 54,
   "metadata": {},
   "outputs": [
    {
     "name": "stderr",
     "output_type": "stream",
     "text": [
      "/Users/keyvanamini/anaconda3/lib/python3.7/site-packages/sklearn/linear_model/logistic.py:432: FutureWarning: Default solver will be changed to 'lbfgs' in 0.22. Specify a solver to silence this warning.\n",
      "  FutureWarning)\n",
      "/Users/keyvanamini/anaconda3/lib/python3.7/site-packages/sklearn/linear_model/logistic.py:432: FutureWarning: Default solver will be changed to 'lbfgs' in 0.22. Specify a solver to silence this warning.\n",
      "  FutureWarning)\n"
     ]
    },
    {
     "name": "stdout",
     "output_type": "stream",
     "text": [
      "Train Size=1000, Test Accuracy 87.612\n"
     ]
    },
    {
     "name": "stderr",
     "output_type": "stream",
     "text": [
      "/Users/keyvanamini/anaconda3/lib/python3.7/site-packages/sklearn/linear_model/logistic.py:432: FutureWarning: Default solver will be changed to 'lbfgs' in 0.22. Specify a solver to silence this warning.\n",
      "  FutureWarning)\n",
      "/Users/keyvanamini/anaconda3/lib/python3.7/site-packages/sklearn/linear_model/logistic.py:432: FutureWarning: Default solver will be changed to 'lbfgs' in 0.22. Specify a solver to silence this warning.\n",
      "  FutureWarning)\n"
     ]
    },
    {
     "name": "stdout",
     "output_type": "stream",
     "text": [
      "Train Size=2000, Test Accuracy 88.535\n"
     ]
    },
    {
     "name": "stderr",
     "output_type": "stream",
     "text": [
      "/Users/keyvanamini/anaconda3/lib/python3.7/site-packages/sklearn/linear_model/logistic.py:432: FutureWarning: Default solver will be changed to 'lbfgs' in 0.22. Specify a solver to silence this warning.\n",
      "  FutureWarning)\n",
      "/Users/keyvanamini/anaconda3/lib/python3.7/site-packages/sklearn/linear_model/logistic.py:432: FutureWarning: Default solver will be changed to 'lbfgs' in 0.22. Specify a solver to silence this warning.\n",
      "  FutureWarning)\n"
     ]
    },
    {
     "name": "stdout",
     "output_type": "stream",
     "text": [
      "Train Size=4000, Test Accuracy 88.404\n"
     ]
    }
   ],
   "source": [
    "# define dataset sizes to evaluate\n",
    "sizes = [1000, 2000, 4000]\n",
    "score_sets3, means3 = list(), list()\n",
    "for n_train in sizes:\n",
    "    # repeated evaluate model with training set size\n",
    "    scores = evaluate_size3(n_train)\n",
    "    score_sets3.append(scores)\n",
    "    # summarize score for size\n",
    "    mean_score3 = mean(scores)\n",
    "    means3.append(mean_score3)\n",
    "    print('Train Size=%d, Test Accuracy %.3f' % (n_train, mean_score3*100))\n"
   ]
  },
  {
   "cell_type": "code",
   "execution_count": 55,
   "metadata": {},
   "outputs": [
    {
     "data": {
      "image/png": "[encoded data removed]",
      "text/plain": [
       "<Figure size 432x288 with 1 Axes>"
      ]
     },
     "metadata": {
      "needs_background": "light"
     },
     "output_type": "display_data"
    }
   ],
   "source": [
    "# summarize relationship of train size to test accuracy\n",
    "plt.plot(sizes, means3, marker='o')\n",
    "plt.show()"
   ]
  },
  {
   "cell_type": "markdown",
   "metadata": {},
   "source": [
    "## Window size 500"
   ]
  },
  {
   "cell_type": "code",
   "execution_count": null,
   "metadata": {},
   "outputs": [],
   "source": []
  },
  {
   "cell_type": "code",
   "execution_count": 68,
   "metadata": {},
   "outputs": [],
   "source": [
    "# evaluate LR model\n",
    "def evaluate_model5(X,trainX, trainy, testX, testy):\n",
    "    # define model\n",
    "    model = LogisticRegression()\n",
    "    \n",
    "    # pre-process data\n",
    "    trainX_mod = trainX.apply(lambda x: word_tokenize(x.lower()))\n",
    "    testX_mod = testX.apply(lambda x: word_tokenize(x.lower()))\n",
    "    docs=X.apply(lambda x: word_tokenize(x.lower()))\n",
    "    \n",
    "    #fit Word2Vec\n",
    "    model2 = Word2Vec(docs, min_count=1,size=500 ,workers=4) #trainX_mod size=50\n",
    "    model2.train(docs, total_examples=len(docs), epochs=2)\n",
    "    \n",
    "    # Train data: WordVec to DocVec\n",
    "    trainX2_temp=[]\n",
    "    for doc in trainX_mod:\n",
    "        doc_vec=np.zeros(shape=(500,)) # 50 because size=50 (per def. in Word2Vec)\n",
    "        for word in doc:\n",
    "            doc_vec+= model2.wv.__getitem__(word)\n",
    "        doc_vec=doc_vec/np.linalg.norm(doc_vec) # taking L2 norm\n",
    "        trainX2_temp+=[doc_vec.tolist()]\n",
    "    trainX2 = np.asarray(trainX2_temp)\n",
    "    \n",
    "    # Test data: WordVec to DocVec\n",
    "    testX2_temp=[]\n",
    "    for doc in testX_mod:\n",
    "        doc_vec=np.zeros(shape=(500,)) # 50 because size=50 (per def. in Word2Vec)\n",
    "        for word in doc:\n",
    "            doc_vec+= model2.wv.__getitem__(word)\n",
    "        doc_vec=doc_vec/np.linalg.norm(doc_vec) # taking L2 norm\n",
    "        testX2_temp+=[doc_vec.tolist()]\n",
    "    testX2 = np.asarray(testX2_temp)\n",
    "    \n",
    "    model.fit(trainX2, trainy)\n",
    "    # evaluate the model\n",
    "    predy = model.predict(testX2)\n",
    "    score = accuracy_score(testy, predy)\n",
    "    return score"
   ]
  },
  {
   "cell_type": "code",
   "execution_count": 69,
   "metadata": {},
   "outputs": [],
   "source": [
    "# repeated evaluation of lr model with dataset of a given size\n",
    "def evaluate_size5(n_train, n_repeats=1):\n",
    "    # create dataset\n",
    "    trainX, trainy, testX, testy = create_dataset(n_train)\n",
    "    # repeat evaluation of model with dataset\n",
    "    scores = list()\n",
    "    for _ in range(n_repeats):\n",
    "        # evaluate model for size\n",
    "        score = evaluate_model5(X,trainX, trainy, testX, testy)\n",
    "        scores.append(score)\n",
    "    return scores"
   ]
  },
  {
   "cell_type": "code",
   "execution_count": 70,
   "metadata": {},
   "outputs": [
    {
     "name": "stderr",
     "output_type": "stream",
     "text": [
      "/Users/keyvanamini/anaconda3/lib/python3.7/site-packages/sklearn/linear_model/logistic.py:432: FutureWarning: Default solver will be changed to 'lbfgs' in 0.22. Specify a solver to silence this warning.\n",
      "  FutureWarning)\n"
     ]
    },
    {
     "name": "stdout",
     "output_type": "stream",
     "text": [
      "Train Size=1000, Test Accuracy 91.040\n"
     ]
    },
    {
     "name": "stderr",
     "output_type": "stream",
     "text": [
      "/Users/keyvanamini/anaconda3/lib/python3.7/site-packages/sklearn/linear_model/logistic.py:432: FutureWarning: Default solver will be changed to 'lbfgs' in 0.22. Specify a solver to silence this warning.\n",
      "  FutureWarning)\n"
     ]
    },
    {
     "name": "stdout",
     "output_type": "stream",
     "text": [
      "Train Size=2000, Test Accuracy 92.470\n"
     ]
    },
    {
     "name": "stderr",
     "output_type": "stream",
     "text": [
      "/Users/keyvanamini/anaconda3/lib/python3.7/site-packages/sklearn/linear_model/logistic.py:432: FutureWarning: Default solver will be changed to 'lbfgs' in 0.22. Specify a solver to silence this warning.\n",
      "  FutureWarning)\n"
     ]
    },
    {
     "name": "stdout",
     "output_type": "stream",
     "text": [
      "Train Size=4000, Test Accuracy 93.313\n"
     ]
    }
   ],
   "source": [
    "# define dataset sizes to evaluate\n",
    "sizes = [1000, 2000, 4000]\n",
    "score_sets5, means5 = list(), list()\n",
    "for n_train in sizes:\n",
    "    # repeated evaluate model with training set size\n",
    "    scores = evaluate_size5(n_train)\n",
    "    score_sets5.append(scores)\n",
    "    # summarize score for size\n",
    "    mean_score5 = mean(scores)\n",
    "    means5.append(mean_score5)\n",
    "    print('Train Size=%d, Test Accuracy %.3f' % (n_train, mean_score5*100))\n"
   ]
  },
  {
   "cell_type": "code",
   "execution_count": 71,
   "metadata": {},
   "outputs": [
    {
     "data": {
      "image/png": "[encoded data removed]",
      "text/plain": [
       "<Figure size 432x288 with 1 Axes>"
      ]
     },
     "metadata": {
      "needs_background": "light"
     },
     "output_type": "display_data"
    }
   ],
   "source": [
    "# summarize relationship of train size to test accuracy\n",
    "plt.plot(sizes, means5, marker='o')\n",
    "plt.show()"
   ]
  },
  {
   "cell_type": "markdown",
   "metadata": {},
   "source": [
    "## Window size 2500"
   ]
  },
  {
   "cell_type": "code",
   "execution_count": 101,
   "metadata": {},
   "outputs": [],
   "source": [
    "# evaluate LR model\n",
    "def evaluate_model6(X,trainX, trainy, testX, testy):\n",
    "    # define model\n",
    "    model = LogisticRegression()\n",
    "    \n",
    "    # pre-process data\n",
    "    trainX_mod = trainX.apply(lambda x: word_tokenize(x.lower()))\n",
    "    testX_mod = testX.apply(lambda x: word_tokenize(x.lower()))\n",
    "    docs=X.apply(lambda x: word_tokenize(x.lower()))\n",
    "    \n",
    "    #fit Word2Vec\n",
    "    model2 = Word2Vec(docs, min_count=1,size=2500 ,workers=4) #trainX_mod size=50\n",
    "    model2.train(docs, total_examples=len(docs), epochs=2)\n",
    "    \n",
    "    # Train data: WordVec to DocVec\n",
    "    trainX2_temp=[]\n",
    "    for doc in trainX_mod:\n",
    "        doc_vec=np.zeros(shape=(2500,)) # 50 because size=50 (per def. in Word2Vec)\n",
    "        for word in doc:\n",
    "            doc_vec+= model2.wv.__getitem__(word)\n",
    "        doc_vec=doc_vec/np.linalg.norm(doc_vec) # taking L2 norm\n",
    "        trainX2_temp+=[doc_vec.tolist()]\n",
    "    trainX2 = np.asarray(trainX2_temp)\n",
    "    \n",
    "    # Test data: WordVec to DocVec\n",
    "    testX2_temp=[]\n",
    "    for doc in testX_mod:\n",
    "        doc_vec=np.zeros(shape=(2500,)) # 50 because size=50 (per def. in Word2Vec)\n",
    "        for word in doc:\n",
    "            doc_vec+= model2.wv.__getitem__(word)\n",
    "        doc_vec=doc_vec/np.linalg.norm(doc_vec) # taking L2 norm\n",
    "        testX2_temp+=[doc_vec.tolist()]\n",
    "    testX2 = np.asarray(testX2_temp)\n",
    "    \n",
    "    model.fit(trainX2, trainy)\n",
    "    # evaluate the model\n",
    "    predy = model.predict(testX2)\n",
    "    score = accuracy_score(testy, predy)\n",
    "    return score"
   ]
  },
  {
   "cell_type": "code",
   "execution_count": 102,
   "metadata": {},
   "outputs": [],
   "source": [
    "# repeated evaluation of lr model with dataset of a given size\n",
    "def evaluate_size6(n_train, n_repeats=1):\n",
    "    # create dataset\n",
    "    trainX, trainy, testX, testy = create_dataset(n_train)\n",
    "    # repeat evaluation of model with dataset\n",
    "    scores = list()\n",
    "    for _ in range(n_repeats):\n",
    "        # evaluate model for size\n",
    "        score = evaluate_model6(X,trainX, trainy, testX, testy)\n",
    "        scores.append(score)\n",
    "    return scores"
   ]
  },
  {
   "cell_type": "code",
   "execution_count": 103,
   "metadata": {},
   "outputs": [
    {
     "name": "stderr",
     "output_type": "stream",
     "text": [
      "WARNING:gensim.models.base_any2vec:Effective 'alpha' higher than previous training cycles\n",
      "/Users/keyvanamini/anaconda3/lib/python3.7/site-packages/sklearn/linear_model/logistic.py:432: FutureWarning: Default solver will be changed to 'lbfgs' in 0.22. Specify a solver to silence this warning.\n",
      "  FutureWarning)\n"
     ]
    },
    {
     "name": "stdout",
     "output_type": "stream",
     "text": [
      "Train Size=1000, Test Accuracy 91.283\n"
     ]
    },
    {
     "name": "stderr",
     "output_type": "stream",
     "text": [
      "WARNING:gensim.models.base_any2vec:Effective 'alpha' higher than previous training cycles\n",
      "/Users/keyvanamini/anaconda3/lib/python3.7/site-packages/sklearn/linear_model/logistic.py:432: FutureWarning: Default solver will be changed to 'lbfgs' in 0.22. Specify a solver to silence this warning.\n",
      "  FutureWarning)\n"
     ]
    },
    {
     "name": "stdout",
     "output_type": "stream",
     "text": [
      "Train Size=2000, Test Accuracy 92.253\n"
     ]
    },
    {
     "name": "stderr",
     "output_type": "stream",
     "text": [
      "WARNING:gensim.models.base_any2vec:Effective 'alpha' higher than previous training cycles\n",
      "/Users/keyvanamini/anaconda3/lib/python3.7/site-packages/sklearn/linear_model/logistic.py:432: FutureWarning: Default solver will be changed to 'lbfgs' in 0.22. Specify a solver to silence this warning.\n",
      "  FutureWarning)\n"
     ]
    },
    {
     "name": "stdout",
     "output_type": "stream",
     "text": [
      "Train Size=4000, Test Accuracy 93.060\n"
     ]
    }
   ],
   "source": [
    "# define dataset sizes to evaluate\n",
    "sizes = [1000, 2000, 4000]\n",
    "score_sets6, means6 = list(), list()\n",
    "for n_train in sizes:\n",
    "    # repeated evaluate model with training set size\n",
    "    scores = evaluate_size6(n_train)\n",
    "    score_sets6.append(scores)\n",
    "    # summarize score for size\n",
    "    mean_score6 = mean(scores)\n",
    "    means6.append(mean_score6)\n",
    "    print('Train Size=%d, Test Accuracy %.3f' % (n_train, mean_score6*100))\n"
   ]
  },
  {
   "cell_type": "code",
   "execution_count": 104,
   "metadata": {},
   "outputs": [
    {
     "data": {
      "image/png": "[encoded data removed]",
      "text/plain": [
       "<Figure size 432x288 with 1 Axes>"
      ]
     },
     "metadata": {
      "needs_background": "light"
     },
     "output_type": "display_data"
    }
   ],
   "source": [
    "# summarize relationship of train size to test accuracy\n",
    "plt.plot(sizes, means6, marker='o')\n",
    "plt.show()"
   ]
  },
  {
   "cell_type": "code",
   "execution_count": null,
   "metadata": {},
   "outputs": [],
   "source": [
    "#del yelps2"
   ]
  },
  {
   "cell_type": "markdown",
   "metadata": {},
   "source": [
    "# Next Test skip-gram vs BOW, training windows"
   ]
  },
  {
   "cell_type": "markdown",
   "metadata": {},
   "source": [
    "### Skip Gram"
   ]
  },
  {
   "cell_type": "code",
   "execution_count": 105,
   "metadata": {},
   "outputs": [],
   "source": [
    "# evaluate LR model\n",
    "def evaluate_model7(X,trainX, trainy, testX, testy):\n",
    "    # define model\n",
    "    model = LogisticRegression()\n",
    "    \n",
    "    # pre-process data\n",
    "    trainX_mod = trainX.apply(lambda x: word_tokenize(x.lower()))\n",
    "    testX_mod = testX.apply(lambda x: word_tokenize(x.lower()))\n",
    "    docs=X.apply(lambda x: word_tokenize(x.lower()))\n",
    "    \n",
    "    #fit Word2Vec\n",
    "    model2 = Word2Vec(docs, min_count=1,size=50 ,sg=1,workers=4) #trainX_mod size=50 sg=1 is skip-gram,\n",
    "    model2.train(docs, total_examples=len(docs), epochs=2)\n",
    "    \n",
    "    # Train data: WordVec to DocVec\n",
    "    trainX2_temp=[]\n",
    "    for doc in trainX_mod:\n",
    "        doc_vec=np.zeros(shape=(50,)) # 50 because size=50 (per def. in Word2Vec)\n",
    "        for word in doc:\n",
    "            doc_vec+= model2.wv.__getitem__(word)\n",
    "        doc_vec=doc_vec/np.linalg.norm(doc_vec) # taking L2 norm\n",
    "        trainX2_temp+=[doc_vec.tolist()]\n",
    "    trainX2 = np.asarray(trainX2_temp)\n",
    "    \n",
    "    # Test data: WordVec to DocVec\n",
    "    testX2_temp=[]\n",
    "    for doc in testX_mod:\n",
    "        doc_vec=np.zeros(shape=(50,)) # 50 because size=50 (per def. in Word2Vec)\n",
    "        for word in doc:\n",
    "            doc_vec+= model2.wv.__getitem__(word)\n",
    "        doc_vec=doc_vec/np.linalg.norm(doc_vec) # taking L2 norm\n",
    "        testX2_temp+=[doc_vec.tolist()]\n",
    "    testX2 = np.asarray(testX2_temp)\n",
    "    \n",
    "    model.fit(trainX2, trainy)\n",
    "    # evaluate the model\n",
    "    predy = model.predict(testX2)\n",
    "    score = accuracy_score(testy, predy)\n",
    "    return score"
   ]
  },
  {
   "cell_type": "code",
   "execution_count": 106,
   "metadata": {},
   "outputs": [],
   "source": [
    "# repeated evaluation of lr model with dataset of a given size\n",
    "def evaluate_size7(n_train, n_repeats=1):\n",
    "    # create dataset\n",
    "    trainX, trainy, testX, testy = create_dataset(n_train)\n",
    "    # repeat evaluation of model with dataset\n",
    "    scores = list()\n",
    "    for _ in range(n_repeats):\n",
    "        # evaluate model for size\n",
    "        score = evaluate_model7(X,trainX, trainy, testX, testy)\n",
    "        scores.append(score)\n",
    "    return scores"
   ]
  },
  {
   "cell_type": "code",
   "execution_count": 107,
   "metadata": {},
   "outputs": [
    {
     "name": "stderr",
     "output_type": "stream",
     "text": [
      "WARNING:gensim.models.base_any2vec:consider setting layer size to a multiple of 4 for greater performance\n",
      "WARNING:gensim.models.base_any2vec:Effective 'alpha' higher than previous training cycles\n",
      "/Users/keyvanamini/anaconda3/lib/python3.7/site-packages/sklearn/linear_model/logistic.py:432: FutureWarning: Default solver will be changed to 'lbfgs' in 0.22. Specify a solver to silence this warning.\n",
      "  FutureWarning)\n"
     ]
    },
    {
     "name": "stdout",
     "output_type": "stream",
     "text": [
      "Train Size=1000, Test Accuracy 87.214\n"
     ]
    },
    {
     "name": "stderr",
     "output_type": "stream",
     "text": [
      "WARNING:gensim.models.base_any2vec:consider setting layer size to a multiple of 4 for greater performance\n",
      "WARNING:gensim.models.base_any2vec:Effective 'alpha' higher than previous training cycles\n",
      "/Users/keyvanamini/anaconda3/lib/python3.7/site-packages/sklearn/linear_model/logistic.py:432: FutureWarning: Default solver will be changed to 'lbfgs' in 0.22. Specify a solver to silence this warning.\n",
      "  FutureWarning)\n"
     ]
    },
    {
     "name": "stdout",
     "output_type": "stream",
     "text": [
      "Train Size=2000, Test Accuracy 89.316\n"
     ]
    },
    {
     "name": "stderr",
     "output_type": "stream",
     "text": [
      "WARNING:gensim.models.base_any2vec:consider setting layer size to a multiple of 4 for greater performance\n",
      "WARNING:gensim.models.base_any2vec:Effective 'alpha' higher than previous training cycles\n",
      "/Users/keyvanamini/anaconda3/lib/python3.7/site-packages/sklearn/linear_model/logistic.py:432: FutureWarning: Default solver will be changed to 'lbfgs' in 0.22. Specify a solver to silence this warning.\n",
      "  FutureWarning)\n"
     ]
    },
    {
     "name": "stdout",
     "output_type": "stream",
     "text": [
      "Train Size=4000, Test Accuracy 91.284\n"
     ]
    }
   ],
   "source": [
    "# define dataset sizes to evaluate\n",
    "sizes = [1000, 2000, 4000]\n",
    "score_sets7, means7 = list(), list()\n",
    "for n_train in sizes:\n",
    "    # repeated evaluate model with training set size\n",
    "    scores = evaluate_size7(n_train)\n",
    "    score_sets7.append(scores)\n",
    "    # summarize score for size\n",
    "    mean_score7 = mean(scores)\n",
    "    means7.append(mean_score7)\n",
    "    print('Train Size=%d, Test Accuracy %.3f' % (n_train, mean_score7*100))\n"
   ]
  },
  {
   "cell_type": "code",
   "execution_count": 108,
   "metadata": {},
   "outputs": [
    {
     "data": {
      "image/png": "[encoded data removed]",
      "text/plain": [
       "<Figure size 432x288 with 1 Axes>"
      ]
     },
     "metadata": {
      "needs_background": "light"
     },
     "output_type": "display_data"
    }
   ],
   "source": [
    "# summarize relationship of train size to test accuracy\n",
    "plt.plot(sizes, means7, marker='o')\n",
    "plt.show()"
   ]
  },
  {
   "cell_type": "code",
   "execution_count": 110,
   "metadata": {},
   "outputs": [
    {
     "data": {
      "image/png": "[encoded data removed]",
      "text/plain": [
       "<Figure size 432x288 with 1 Axes>"
      ]
     },
     "metadata": {
      "needs_background": "light"
     },
     "output_type": "display_data"
    }
   ],
   "source": [
    "# summarize relationship of train size to test accuracy\n",
    "plt.plot(sizes, means1, marker='o',label='Word Frequency Matrix')\n",
    "plt.plot(sizes, means, marker='o',label=\"Word2Vec, size=50,CBOW\")\n",
    "plt.plot(sizes, means3, marker='o',label=\"Word2Vec,size=20,CBOW\")\n",
    "plt.plot(sizes, means5, marker='o',label=\"Word2Vec,size=500,CBOW\")\n",
    "plt.plot(sizes, means6, marker='o',label=\"Word2Vec,size=2500,CBOW\")\n",
    "plt.plot(sizes, means7, marker='o',label=\"Word2Vec,size=50,Skip-Gram\")\n",
    "plt.legend()\n",
    "plt.show()"
   ]
  },
  {
   "cell_type": "markdown",
   "metadata": {},
   "source": [
    "**Word Frequency vs. Word2Vec:**"
   ]
  },
  {
   "cell_type": "markdown",
   "metadata": {},
   "source": [
    "As we can see the overall performance of the Word Frequency Matrix is comparable to Word2Vec. Both models' out of sample test accuracy improve, when increasing the training data size."
   ]
  },
  {
   "cell_type": "markdown",
   "metadata": {},
   "source": [
    "**Window Size:**"
   ]
  },
  {
   "cell_type": "markdown",
   "metadata": {},
   "source": [
    "When the window size is decreased we can see no increase in accuracy when we increase the training size. Also further below when the window size is set too large the accuracy suffers. Arora (2016) expressed this phenomenon as follows:“...  A striking finding in empirical work on word embeddings is that **there is a sweet spot for the dimensionality of word vectors: neither too small, nor too large**”. This phenomenon is closely related to the well known bias-viariance trade-off."
   ]
  },
  {
   "cell_type": "markdown",
   "metadata": {},
   "source": [
    "**Skip-Gram vs CBOW**:"
   ]
  },
  {
   "cell_type": "markdown",
   "metadata": {},
   "source": [
    "Interestingly, the skip-gram method in Word2Vec has a major impact on the performance of the classification model, particularly for larger training data. The Skip-Gram method (brown line) first performs worse than the model with equivalent window size (orange line). According to various sources I have found online Skip-Gram works well with small amount of data and performs well for rare words. At least the former seems to contradict my results here. However if we look at the magnitude of the differences in accuracy here one might also argue that more epochs should have been run for more robust comparison."
   ]
  },
  {
   "cell_type": "code",
   "execution_count": null,
   "metadata": {},
   "outputs": [],
   "source": []
  }
 ],
 "metadata": {
  "kernelspec": {
   "display_name": "Python 3",
   "language": "python",
   "name": "python3"
  },
  "language_info": {
   "codemirror_mode": {
    "name": "ipython",
    "version": 3
   },
   "file_extension": ".py",
   "mimetype": "text/x-python",
   "name": "python",
   "nbconvert_exporter": "python",
   "pygments_lexer": "ipython3",
   "version": "3.7.3"
  },
  "name": "assignment.ipynb",
  "toc": {
   "base_numbering": 1,
   "nav_menu": {},
   "number_sections": true,
   "sideBar": true,
   "skip_h1_title": false,
   "title_cell": "Table of Contents",
   "title_sidebar": "Contents",
   "toc_cell": false,
   "toc_position": {},
   "toc_section_display": true,
   "toc_window_display": false
  }
 },
 "nbformat": 4,
 "nbformat_minor": 2
}
